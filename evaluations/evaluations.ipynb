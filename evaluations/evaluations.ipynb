{
 "cells": [
  {
   "cell_type": "code",
   "execution_count": null,
   "id": "8be48743",
   "metadata": {},
   "outputs": [
    {
     "name": "stdout",
     "output_type": "stream",
     "text": [
      "                                            sequence  \\\n",
      "0           ['L', 'H', 'S', 'L', 'V', 'H', 'H', 'V']   \n",
      "1           ['L', 'K', 'R', 'E', 'L', 'A', 'T', 'L']   \n",
      "2      ['G', 'V', 'R', 'R', 'L', 'L', 'A', 'S', 'L']   \n",
      "3  ['A', 'A', 'L', 'A', 'L', 'L', 'S', 'A', 'A', ...   \n",
      "4           ['P', 'F', 'A', 'F', 'L', 'H', 'K', 'L']   \n",
      "\n",
      "                                         per_aa_conf  overall_conf  \\\n",
      "0  0.4039;0.7144;0.9578;0.2470;0.2560;0.1904;0.20...      0.395318   \n",
      "1  0.9902;0.9911;0.9933;0.7968;0.9812;0.9849;0.65...      0.918820   \n",
      "2  0.9914;0.7593;0.9277;0.6572;0.5137;0.3027;0.77...      0.682082   \n",
      "3  0.4659;0.6200;0.9045;0.8903;0.3871;0.1556;0.13...      0.416083   \n",
      "4  0.9890;0.9903;0.9912;0.9909;0.9906;0.9893;0.99...      0.988003   \n",
      "\n",
      "                                         spectrum_id  precursor_mz  \\\n",
      "0  ['/net/noble/vol1/home/gstrau2/data/downsample...    961.534668   \n",
      "1  ['/net/noble/vol1/home/gstrau2/data/downsample...    942.586243   \n",
      "2  ['/net/noble/vol1/home/gstrau2/data/downsample...    983.624512   \n",
      "3  ['/net/noble/vol1/home/gstrau2/data/downsample...   1198.645874   \n",
      "4  ['/net/noble/vol1/home/gstrau2/data/downsample...    971.558472   \n",
      "\n",
      "   precursor_charge  \n",
      "0               2.0  \n",
      "1               2.0  \n",
      "2               3.0  \n",
      "3               2.0  \n",
      "4               2.0  \n"
     ]
    },
    {
     "data": {
      "text/plain": [
       "(1024, 6)"
      ]
     },
     "execution_count": 1,
     "metadata": {},
     "output_type": "execute_result"
    }
   ],
   "source": [
    "import pandas as pd \n",
    "predictions = pd.read_csv('/net/noble/vol1/home/ddesai22/projects/casanovo_nonautoregressive/evaluations/validation_predictions.csv')\n",
    "true = pd.read_csv('/net/noble/vol1/home/ddesai22/projects/casanovo_nonautoregressive/evaluations/ground_truth_sequences.csv', nrows=1024)\n",
    "\n",
    "print(predictions.head())\n",
    "\n",
    "predictions.shape"
   ]
  },
  {
   "cell_type": "code",
   "execution_count": 2,
   "id": "b7bb7a46",
   "metadata": {},
   "outputs": [
    {
     "name": "stdout",
     "output_type": "stream",
     "text": [
      "         Score  Correct True Sequence Predicted Sequence\n",
      "0     0.395318        0     ALHSALHTL           LHSLVHHV\n",
      "1     0.918820        1      LKRELATL           LKRELATL\n",
      "2     0.682082        0     VGRLRLASL          GVRRLLASL\n",
      "3     0.416083        0   RPYAPLNANAL       AALALLSAANAA\n",
      "4     0.988003        1      PFAFLHKL           PFAFLHKL\n",
      "...        ...      ...           ...                ...\n",
      "1019  0.919864        0     TRLQQLTNL          TRLLQLTNL\n",
      "1020  0.515919        0   HRPSLQLDTAL         RATDLKLDRF\n",
      "1021  0.559579        0     RLLQQVSQL          LLLLQLSQY\n",
      "1022  0.679576        0      VELQTPKL           VELQTLKL\n",
      "1023  0.744656        0     GRFVTVQTL          RRRVTVQTL\n",
      "\n",
      "[1024 rows x 4 columns]\n"
     ]
    }
   ],
   "source": [
    "import ast  \n",
    "\n",
    "results = []\n",
    "for index, row in predictions.iterrows():\n",
    "    pred_sequence_list = ast.literal_eval(row[\"sequence\"])  # e.g., ['L', 'H', ...]\n",
    "    pred_sequence = ''.join(pred_sequence_list)\n",
    "\n",
    "    pred_confidence = row[\"overall_conf\"]\n",
    "    ground_truth_sequence = true.iloc[index][\"ground_truth\"]\n",
    "\n",
    "    correct = int(pred_sequence == ground_truth_sequence)\n",
    "    results.append({\n",
    "        \"Score\": pred_confidence,\n",
    "        \"Correct\": correct,\n",
    "        \"True Sequence\": ground_truth_sequence,\n",
    "        \"Predicted Sequence\": pred_sequence\n",
    "    })\n",
    "\n",
    "df_results = pd.DataFrame(results)\n",
    "print(df_results)\n",
    "\n",
    "df_sorted = df_results.sort_values(by=\"Score\", ascending=False)\n",
    "df_sorted.to_csv(\"sorted_scores.csv\", index=False, sep='\\t')\n",
    "\n",
    "df_wrong = df_sorted[df_sorted[\"Correct\"] == 0]\n",
    "df_wrong.to_csv(\"high_confidence_wrong_predictions.tsv\", index=False, sep='\\t')\n",
    "\n",
    "\n"
   ]
  },
  {
   "cell_type": "code",
   "execution_count": 3,
   "id": "37dfcea2",
   "metadata": {},
   "outputs": [
    {
     "name": "stdout",
     "output_type": "stream",
     "text": [
      "[0.9922577  0.99224794 0.99217347 ... 0.21436089 0.19173334 0.15697926]\n",
      "[1 1 1 ... 0 0 0]\n"
     ]
    },
    {
     "data": {
      "text/plain": [
       "<matplotlib.legend.Legend at 0x7f473e00cf40>"
      ]
     },
     "execution_count": 3,
     "metadata": {},
     "output_type": "execute_result"
    },
    {
     "data": {
      "image/png": "[encoded data removed]",
      "text/plain": [
       "<Figure size 640x480 with 1 Axes>"
      ]
     },
     "metadata": {},
     "output_type": "display_data"
    }
   ],
   "source": [
    "import matplotlib.pyplot as plt\n",
    "import numpy as np\n",
    "\n",
    "scores = df_results['Score'].values\n",
    "labels = df_results['Correct'].values  \n",
    "\n",
    "\n",
    "sorted_indexes = np.argsort(scores)[::-1]\n",
    "scores = scores[sorted_indexes]\n",
    "labels = labels[sorted_indexes]\n",
    "\n",
    "print(scores)\n",
    "print(labels)\n",
    "    \n",
    "precisions= []\n",
    "num_predictions = []\n",
    "total = len(scores)\n",
    "tp = 0\n",
    "\n",
    "for i in range(total):\n",
    "    tp += labels[i]\n",
    "    precision = tp / (i + 1)\n",
    "    precisions.append(precision)\n",
    "    num_predictions.append(i)\n",
    "\n",
    "plt.plot(num_predictions, precisions, label=\"Model Precision\")\n",
    "plt.xlabel('Total Sequences Predicted')  \n",
    "plt.ylabel('Precision')\n",
    "\n",
    "\n",
    "plt.legend()\n",
    "\n",
    "\n"
   ]
  },
  {
   "cell_type": "code",
   "execution_count": 4,
   "id": "3cf0c23d",
   "metadata": {},
   "outputs": [
    {
     "name": "stdout",
     "output_type": "stream",
     "text": [
      "0.2744140625\n"
     ]
    }
   ],
   "source": [
    "overall_accuracy = tp/total\n",
    "print(overall_accuracy)"
   ]
  }
 ],
 "metadata": {
  "kernelspec": {
   "display_name": "base",
   "language": "python",
   "name": "python3"
  },
  "language_info": {
   "codemirror_mode": {
    "name": "ipython",
    "version": 3
   },
   "file_extension": ".py",
   "mimetype": "text/x-python",
   "name": "python",
   "nbconvert_exporter": "python",
   "pygments_lexer": "ipython3",
   "version": "3.10.9"
  }
 },
 "nbformat": 4,
 "nbformat_minor": 5
}
